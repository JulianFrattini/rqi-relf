{
 "cells": [
  {
   "cell_type": "markdown",
   "metadata": {},
   "source": [
    "# Analysis of Interview Data\n",
    "\n",
    "This notebook contains the analysis of the data generated during the interviews with architects in the case company. During the interview, the participants were prompted to elicit perceived issues with requirements quality."
   ]
  },
  {
   "cell_type": "code",
   "execution_count": 8,
   "metadata": {},
   "outputs": [],
   "source": [
    "import pandas as pd"
   ]
  },
  {
   "cell_type": "markdown",
   "metadata": {},
   "source": [
    "## Data Preparation\n",
    "\n",
    "Firstly, we load and prepare the data by cleaning it of properties that would disrupt the analysis."
   ]
  },
  {
   "cell_type": "code",
   "execution_count": 9,
   "metadata": {},
   "outputs": [
    {
     "name": "stderr",
     "output_type": "stream",
     "text": [
      "c:\\Users\\juf\\Workspace\\BTH\\Data Processing\\rqi-pat\\.venv\\lib\\site-packages\\openpyxl\\worksheet\\_reader.py:312: UserWarning: Data Validation extension is not supported and will be removed\n",
      "  warn(msg)\n"
     ]
    }
   ],
   "source": [
    "df = pd.read_excel('../../data/raw/prq-data-0-10.xlsx', sheet_name='Data').fillna('na')"
   ]
  },
  {
   "cell_type": "code",
   "execution_count": 10,
   "metadata": {},
   "outputs": [],
   "source": [
    "# list the variables containing codes, i.e., remove all variables which contain supplementary information or verbatim mentions\n",
    "allvars = [ \n",
    "    'ID',\n",
    "    'Quality Factor 1', 'Entity-Fact 1', 'Quality Factor 2', 'Entity-Fact 2',\n",
    "    'Context Factor 1', 'Context Factor 2', 'Context Factor 3',\n",
    "    'Activity 1', 'Attribute 1', 'Impact 1', 'Activity 2', 'Attribute 2', 'Impact 2'\n",
    "]"
   ]
  },
  {
   "cell_type": "markdown",
   "metadata": {},
   "source": [
    "### Removal of irrelevant Data\n",
    "\n",
    "We filter out all rows where the interview participant explicitly stated that they do not perceive any quality defect in this regard."
   ]
  },
  {
   "cell_type": "code",
   "execution_count": 11,
   "metadata": {},
   "outputs": [
    {
     "name": "stdout",
     "output_type": "stream",
     "text": [
      "Removed 24 rows where the interview participant stated that they did not perceive any defect (reduced the data set from 108 to 84 statements).\n"
     ]
    }
   ],
   "source": [
    "# filter for rows where the participant explicitly mentioned a requirements quality impact\n",
    "len_original = len(df)\n",
    "df = df[df['M'] == True]\n",
    "len_perceived = len(df)\n",
    "\n",
    "print(f'Removed {len_original-len_perceived} rows where the interview participant stated that they did not perceive any defect (reduced the data set from {len_original} to {len_perceived} statements).')"
   ]
  },
  {
   "cell_type": "markdown",
   "metadata": {},
   "source": [
    "### Removal of unspecific Data\n",
    "\n",
    "We additionally remove those data points where either the activity was unspecific (activity code `Processing`) or the attribute was unspecific (attribute code `Unspecific`). These data points are not refined enough to allow further inference."
   ]
  },
  {
   "cell_type": "code",
   "execution_count": 12,
   "metadata": {},
   "outputs": [
    {
     "name": "stdout",
     "output_type": "stream",
     "text": [
      "Detected 14 unspecific activities and 29 unspecific attributes.\n"
     ]
    }
   ],
   "source": [
    "n_unspecific_activity = 0\n",
    "n_unspecific_attribute = 0\n",
    "for index, row in df.iterrows():\n",
    "    for actid in ['1', '2']:\n",
    "        unspecific = False\n",
    "        if row[f'Activity {actid}'] == 'Processing':\n",
    "            n_unspecific_activity += 1\n",
    "            unspecific = True\n",
    "        if row[f'Attribute {actid}'] == 'Unspecific':\n",
    "            n_unspecific_attribute += 1\n",
    "            unspecific = True\n",
    "        \n",
    "        if unspecific:\n",
    "            df.at[index, f'Activity {actid}'] = 'na'\n",
    "            df.at[index, f'Attribute {actid}'] = 'na'\n",
    "            df.at[index, f'Impact {actid}'] = 'na'\n",
    "\n",
    "    if row['Activity 1'] == 'na' and row['Activity 2'] != 'na':\n",
    "        df.at[index, 'Activity 1'] = row['Activity 2']\n",
    "        df.at[index, 'Attribute 1'] = row['Attribute 2']\n",
    "        df.at[index, 'Impact 1'] = row['Impact 2']\n",
    "\n",
    "        df.at[index, 'Activity 2'] = 'na'\n",
    "        df.at[index, 'Attribute 2'] = 'na'\n",
    "        df.at[index, 'Impact 2'] = 'na'\n",
    "\n",
    "print(f'Detected {n_unspecific_activity} unspecific activities and {n_unspecific_attribute} unspecific attributes.')"
   ]
  },
  {
   "cell_type": "markdown",
   "metadata": {},
   "source": [
    "### Removal of incomplete Data\n",
    "\n",
    "We filter out rows that miss either a quality factor or an activity. Statements that lack either of the two form incomplete data and are irrelevant to the analysis."
   ]
  },
  {
   "cell_type": "code",
   "execution_count": 13,
   "metadata": {},
   "outputs": [
    {
     "name": "stdout",
     "output_type": "stream",
     "text": [
      "Removed 44 rows where the interview participant did not provide either a artifact mention or an activity mention (reduced the data set to 40 statements).\n"
     ]
    }
   ],
   "source": [
    "df_spec = df.query('`Quality Factor 1` != \"na\" & `Activity 1` != \"na\"')\n",
    "len_complete = len(df_spec)\n",
    "\n",
    "print(f'Removed {len_perceived-len_complete} rows where the interview participant did not provide either a artifact mention or an activity mention (reduced the data set to {len_complete} statements).')"
   ]
  },
  {
   "cell_type": "markdown",
   "metadata": {},
   "source": [
    "## Analysis\n",
    "\n",
    "We now proceed with the analysis using the rows of the data set which exhibit the following properties:\n",
    "\n",
    "1. The interview participant did not explicitly deny that they perceive an issue with the type of quality.\n",
    "2. The statement contains at least one quality factor and at least one attribute.\n",
    "3. The activity and attribute is not unspecific."
   ]
  },
  {
   "cell_type": "markdown",
   "metadata": {},
   "source": [
    "First, define a method that aggregates all instances mentioning the same combination of independent variables (combination of quality and context factors)."
   ]
  },
  {
   "cell_type": "code",
   "execution_count": 17,
   "metadata": {},
   "outputs": [],
   "source": [
    "def aggregate_instances(df_filtered: pd.DataFrame) -> dict:\n",
    "    \n",
    "    instances = {}\n",
    "\n",
    "    for _, row in df_filtered.iterrows():\n",
    "        # assemble the entity-fact, which consists of all input variables (quality factor 1 & 2 plus context factor 1-3 where available)\n",
    "        independent = f'{row[\"Quality Factor 1\"]}-{row[\"Entity-Fact 1\"]}'\n",
    "        if row[\"Quality Factor 2\"] != 'na':\n",
    "            independent += f' & {row[\"Quality Factor 2\"]}-{row[\"Entity-Fact 2\"]}'\n",
    "        for cid in ['1', '2', '3']:\n",
    "            if row[f'Context Factor {cid}'] != \"na\":\n",
    "                independent += f' & {row[\"Context Factor \"+cid]}'\n",
    "\n",
    "        # add the entity-fact to the list of instances if it does not already exist\n",
    "        if independent not in instances:\n",
    "            instances[independent] = {\n",
    "                'support': 0,\n",
    "                'activities': {}\n",
    "            }\n",
    "\n",
    "        # increment the support of the entity-fact, i.e., the number of statements mentioning this entity-fact\n",
    "        instances[independent]['support'] += 1\n",
    "\n",
    "        # record all activities and their impacted attributes that are affected by the entity-fact according to this statement\n",
    "        for actid in ['1', '2']:\n",
    "            if row[f'Activity {actid}'] != \"na\":\n",
    "                activity = row[f'Activity {actid}']\n",
    "                if activity not in instances[independent]['activities']:\n",
    "                    instances[independent]['activities'][activity] = {}\n",
    "\n",
    "                attribute = row[f'Attribute {actid}']\n",
    "                if attribute not in instances[independent]['activities'][activity]:\n",
    "                    instances[independent]['activities'][activity][attribute] = []\n",
    "                instances[independent]['activities'][activity][attribute].append(row[f'Impact {actid}'])\n",
    "\n",
    "    return instances"
   ]
  },
  {
   "cell_type": "code",
   "execution_count": 24,
   "metadata": {},
   "outputs": [],
   "source": [
    "def print_instances(instances: dict):\n",
    "    for ind in instances:\n",
    "        data = instances[ind]\n",
    "        print(f'{ind} ({data[\"support\"]}) has the following impact:')\n",
    "        \n",
    "        for ac in data['activities']:\n",
    "            print(f'\\t- {ac}:')\n",
    "            for att in data['activities'][ac]:\n",
    "                print(f'\\t\\t{att}: {data[\"activities\"][ac][att]}')"
   ]
  },
  {
   "cell_type": "markdown",
   "metadata": {},
   "source": [
    "### Analysis 1: Single Quality Factors\n",
    "\n",
    "First, we isolate all statements that contain a single quality factor and no context factor."
   ]
  },
  {
   "cell_type": "code",
   "execution_count": 14,
   "metadata": {},
   "outputs": [
    {
     "name": "stdout",
     "output_type": "stream",
     "text": [
      "The 40 statements contain 28 statements with one quality factor and no context factors.\n"
     ]
    }
   ],
   "source": [
    "single_impact = df_spec.query('`Quality Factor 2` == \"na\" & `Context Factor 1` == \"na\" & `Context Factor 2` == \"na\" & `Context Factor 3` == \"na\"')\n",
    "\n",
    "print(f'The {len(df_spec)} statements contain {len(single_impact)} statements with one quality factor and no context factors.')"
   ]
  },
  {
   "cell_type": "code",
   "execution_count": 18,
   "metadata": {},
   "outputs": [
    {
     "name": "stdout",
     "output_type": "stream",
     "text": [
      "The data set describes the isolated impact relationship of 17 quality factors.\n"
     ]
    }
   ],
   "source": [
    "single_quality_factors = aggregate_instances(single_impact)\n",
    "\n",
    "print(f'The data set describes the isolated impact relationship of {len(single_quality_factors)} quality factors.')"
   ]
  },
  {
   "cell_type": "code",
   "execution_count": 25,
   "metadata": {},
   "outputs": [
    {
     "name": "stdout",
     "output_type": "stream",
     "text": [
      "The following quality factors received a support of at least 2:\n",
      "orientation-solution (8) has the following impact:\n",
      "\t- Understanding:\n",
      "\t\tUniqueness: [-3.0, -2.0]\n",
      "\t- Verifying:\n",
      "\t\tCompleteness: [-2.0, -2.0]\n",
      "\t- Estimating Effort:\n",
      "\t\tTraceability: [2.0]\n",
      "\t- Translating:\n",
      "\t\tStability: [2.0]\n",
      "\t- Assessing Feasibility:\n",
      "\t\tPrecision: [2.0]\n",
      "\t- Planning:\n",
      "\t\tStability: [2.0]\n",
      "atomic-false (2) has the following impact:\n",
      "\t- Translating:\n",
      "\t\tDuration: [-2.0, -2.0]\n",
      "\t- Planning:\n",
      "\t\tStability: [-2.0]\n",
      "concise-false (2) has the following impact:\n",
      "\t- Understanding:\n",
      "\t\tUniqueness: [-1.0]\n",
      "\t\tDuration: [-2.0]\n",
      "density-too high (3) has the following impact:\n",
      "\t- Understanding:\n",
      "\t\tDuration: [-2.0]\n",
      "\t- Verifying:\n",
      "\t\tDuration: [-2.0]\n",
      "\t- Interpreting:\n",
      "\t\tUniqueness: [-2.0]\n"
     ]
    }
   ],
   "source": [
    "single_quality_factors_supported = {instance:single_quality_factors[instance] for instance in single_quality_factors if single_quality_factors[instance]['support'] >= 2}\n",
    "\n",
    "print('The following quality factors received a support of at least 2:')\n",
    "print_instances(single_quality_factors_supported)"
   ]
  },
  {
   "cell_type": "markdown",
   "metadata": {},
   "source": [
    "### Quality Factor Interaction\n",
    "\n",
    "Next, we isolate statements where two quality factors interact but no context factors are at play."
   ]
  },
  {
   "cell_type": "code",
   "execution_count": 26,
   "metadata": {},
   "outputs": [
    {
     "name": "stdout",
     "output_type": "stream",
     "text": [
      "The 40 statements contain 4 statements where two quality factors interact but no context factors interact.\n"
     ]
    }
   ],
   "source": [
    "interaction = df_spec.query('`Quality Factor 2` != \"na\" & `Context Factor 1` == \"na\" & `Context Factor 2` == \"na\" & `Context Factor 3` == \"na\"')\n",
    "\n",
    "print(f'The {len(df_spec)} statements contain {len(interaction)} statements where two quality factors interact but no context factors interact.')"
   ]
  },
  {
   "cell_type": "code",
   "execution_count": 28,
   "metadata": {},
   "outputs": [
    {
     "name": "stdout",
     "output_type": "stream",
     "text": [
      "The data set describes the isolated impact relationship of 4 quality factors.\n",
      "semantically redundant-true & horizontal traces-missing (1) has the following impact:\n",
      "\t- Implementing:\n",
      "\t\tCoherence: [-2.0]\n",
      "level of detail-too little & type-non-functional (1) has the following impact:\n",
      "\t- Understanding:\n",
      "\t\tUniqueness: [-2.0]\n",
      "maturity-immature & committed-true (1) has the following impact:\n",
      "\t- Assessing Feasibility:\n",
      "\t\tDuration: [2.0]\n",
      "jargonic-true & density-too high (1) has the following impact:\n",
      "\t- Assessing Feasibility:\n",
      "\t\tPrecision: [-2.0]\n"
     ]
    }
   ],
   "source": [
    "multiple_quality_factors = aggregate_instances(interaction)\n",
    "\n",
    "print(f'The data set describes the isolated impact relationship of {len(multiple_quality_factors)} quality factors.')\n",
    "print_instances(multiple_quality_factors)"
   ]
  },
  {
   "cell_type": "markdown",
   "metadata": {},
   "source": [
    "### Context Factor Interaction\n",
    "\n",
    "Finally, we investigate statements where context factors mediate the impact of quality factors."
   ]
  },
  {
   "cell_type": "code",
   "execution_count": 29,
   "metadata": {},
   "outputs": [
    {
     "name": "stdout",
     "output_type": "stream",
     "text": [
      "The 40 statements contain 8 statements where context factors mediate the effect of the quality factors.\n"
     ]
    }
   ],
   "source": [
    "context_interaction = df_spec.query('`Context Factor 1` != \"na\"')\n",
    "\n",
    "print(f'The {len(df_spec)} statements contain {len(context_interaction)} statements where context factors mediate the effect of the quality factors.')"
   ]
  },
  {
   "cell_type": "code",
   "execution_count": 30,
   "metadata": {},
   "outputs": [
    {
     "name": "stdout",
     "output_type": "stream",
     "text": [
      "The data set describes the isolated impact relationship of 7 quality factors.\n",
      "orientation-solution & Involvement (1) has the following impact:\n",
      "\t- Understanding:\n",
      "\t\tUniqueness: [0.0]\n",
      "orientation-solution & Novelty (2) has the following impact:\n",
      "\t- Assessing Feasibility:\n",
      "\t\tPrecision: [2.0]\n",
      "\t- Estimating Effort:\n",
      "\t\tPrecision: [2.0]\n",
      "\t- Translating:\n",
      "\t\tStability: [1.0]\n",
      "atomic-true & Experience (1) has the following impact:\n",
      "\t- Understanding:\n",
      "\t\tUniqueness: [3.0]\n",
      "orientation-solution & Peer Review (1) has the following impact:\n",
      "\t- Understanding:\n",
      "\t\tUniqueness: [0.0]\n",
      "overloaded term-true & Involvement (1) has the following impact:\n",
      "\t- Understanding:\n",
      "\t\tUniqueness: [2.0]\n",
      "density-too high & Experience (1) has the following impact:\n",
      "\t- Understanding:\n",
      "\t\tDuration: [0.0]\n",
      "density-too high & Supplementary Communication (1) has the following impact:\n",
      "\t- Verifying:\n",
      "\t\tDuration: [2.0]\n"
     ]
    }
   ],
   "source": [
    "context_factors = aggregate_instances(context_interaction)\n",
    "\n",
    "print(f'The data set describes the isolated impact relationship of {len(context_factors)} quality factors.')\n",
    "print_instances(context_factors)"
   ]
  }
 ],
 "metadata": {
  "kernelspec": {
   "display_name": ".venv",
   "language": "python",
   "name": "python3"
  },
  "language_info": {
   "codemirror_mode": {
    "name": "ipython",
    "version": 3
   },
   "file_extension": ".py",
   "mimetype": "text/x-python",
   "name": "python",
   "nbconvert_exporter": "python",
   "pygments_lexer": "ipython3",
   "version": "3.10.0"
  }
 },
 "nbformat": 4,
 "nbformat_minor": 2
}
