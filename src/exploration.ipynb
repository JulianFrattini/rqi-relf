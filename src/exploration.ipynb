{
 "cells": [
  {
   "cell_type": "markdown",
   "metadata": {},
   "source": [
    "# Exploration of Interview Data\n",
    "\n",
    "This notebook contains helper functions that enable to explore the coded interview data further. "
   ]
  },
  {
   "cell_type": "code",
   "execution_count": 1,
   "metadata": {},
   "outputs": [],
   "source": [
    "import pandas as pd"
   ]
  },
  {
   "cell_type": "markdown",
   "metadata": {},
   "source": [
    "## Data Preparation\n",
    "\n",
    "Load the data and remove rows where the interview participant explicitly stated that they do not perceive any quality defect. However, other than in the [analysis](./../analytics/analysis.ipynb) we retain (1) incomplete and (2) unspecific data as it may be interesting for other types of investigation."
   ]
  },
  {
   "cell_type": "code",
   "execution_count": 3,
   "metadata": {},
   "outputs": [
    {
     "name": "stderr",
     "output_type": "stream",
     "text": [
      "c:\\Users\\juf\\Workspace\\BTH\\Data Processing\\rqi-pat\\.venv\\lib\\site-packages\\openpyxl\\worksheet\\_reader.py:312: UserWarning: Data Validation extension is not supported and will be removed\n",
      "  warn(msg)\n"
     ]
    }
   ],
   "source": [
    "df = pd.read_excel('./../data/interview-data.xlsx', sheet_name='Data').fillna('na')\n",
    "df = df[df['M'] == True]"
   ]
  },
  {
   "cell_type": "code",
   "execution_count": 5,
   "metadata": {},
   "outputs": [],
   "source": [
    "# list the variables containing codes, i.e., remove all variables which contain supplementary information or verbatim mentions\n",
    "allvars = [ \n",
    "    'ID',\n",
    "    'Quality Factor 1', 'Entity-Fact 1', 'Quality Factor 2', 'Entity-Fact 2',\n",
    "    'Context Factor 1', 'Context Factor 2', 'Context Factor 3',\n",
    "    'Activity 1', 'Attribute 1', 'Impact 1', 'Activity 2', 'Attribute 2', 'Impact 2'\n",
    "]"
   ]
  },
  {
   "cell_type": "markdown",
   "metadata": {},
   "source": [
    "## Helper functions\n",
    "\n",
    "In the following code blocks, we define helper functions which generate query strings for the `pandas.DataFrame.query()` method. By providing for example the `query_qf()` method with a quality factor, it constructs a query that searches for all rows in which either the column `Quality Factor 1` or `Quality Factor 2` equal the provided value."
   ]
  },
  {
   "cell_type": "code",
   "execution_count": 6,
   "metadata": {},
   "outputs": [],
   "source": [
    "def query_qf(qualityfactor: str, entityfact: str = \"\") -> str : \n",
    "    queries: [str] = []\n",
    "    for idx in [\"1\", \"2\"]:\n",
    "        query: str = f'`Quality Factor {idx}`==\"{qualityfactor}\"'\n",
    "        if entityfact:\n",
    "            query += f' & `Entity-Fact {idx}`==\"{entityfact}\"'\n",
    "        queries.append(query)\n",
    "\n",
    "    return '(' + ' | '.join(queries) + ')'"
   ]
  },
  {
   "cell_type": "code",
   "execution_count": 7,
   "metadata": {},
   "outputs": [],
   "source": [
    "def query_context(contextfactors: [str]) -> str :\n",
    "    col_ctx: [str] = ['Context Factor 1', 'Context Factor 2', 'Context Factor 3']\n",
    "\n",
    "    queries = [f'`{column}` in {contextfactors}' for column in col_ctx]\n",
    "\n",
    "    return '(' + ' | '.join(queries) + ')'"
   ]
  },
  {
   "cell_type": "code",
   "execution_count": 8,
   "metadata": {},
   "outputs": [],
   "source": [
    "def query_activity(activity: str, attribute: str = \"\", impact: int = None) -> str:\n",
    "    queries: [str] = []\n",
    "    for idx in [\"1\", \"2\"]:\n",
    "        query = f'`Activity {idx}`==\"{activity}\"'\n",
    "        if attribute:\n",
    "            query += f' & `Attribute {idx}`==\"{attribute}\"'\n",
    "            if impact:\n",
    "                query += f' & `Impact {idx}`=={impact}'\n",
    "        queries.append(query)\n",
    "\n",
    "    return '(' + ' | '.join(queries) + ')'"
   ]
  },
  {
   "cell_type": "markdown",
   "metadata": {},
   "source": [
    "## Exploration\n",
    "\n",
    "With the helper methods, query strings can be generated that allow to filter the existing data for specific attributes."
   ]
  },
  {
   "cell_type": "markdown",
   "metadata": {},
   "source": [
    "The first query retrieves all statements in which the quality factor `orientation` impacts the activity of `Understanding`."
   ]
  },
  {
   "cell_type": "code",
   "execution_count": 9,
   "metadata": {},
   "outputs": [
    {
     "data": {
      "text/html": [
       "<div>\n",
       "<style scoped>\n",
       "    .dataframe tbody tr th:only-of-type {\n",
       "        vertical-align: middle;\n",
       "    }\n",
       "\n",
       "    .dataframe tbody tr th {\n",
       "        vertical-align: top;\n",
       "    }\n",
       "\n",
       "    .dataframe thead th {\n",
       "        text-align: right;\n",
       "    }\n",
       "</style>\n",
       "<table border=\"1\" class=\"dataframe\">\n",
       "  <thead>\n",
       "    <tr style=\"text-align: right;\">\n",
       "      <th></th>\n",
       "      <th>ID</th>\n",
       "      <th>Quality Factor 1</th>\n",
       "      <th>Entity-Fact 1</th>\n",
       "      <th>Quality Factor 2</th>\n",
       "      <th>Entity-Fact 2</th>\n",
       "      <th>Context Factor 1</th>\n",
       "      <th>Context Factor 2</th>\n",
       "      <th>Context Factor 3</th>\n",
       "      <th>Activity 1</th>\n",
       "      <th>Attribute 1</th>\n",
       "      <th>Impact 1</th>\n",
       "      <th>Activity 2</th>\n",
       "      <th>Attribute 2</th>\n",
       "      <th>Impact 2</th>\n",
       "    </tr>\n",
       "  </thead>\n",
       "  <tbody>\n",
       "    <tr>\n",
       "      <th>0</th>\n",
       "      <td>1</td>\n",
       "      <td>orientation</td>\n",
       "      <td>solution</td>\n",
       "      <td>na</td>\n",
       "      <td>na</td>\n",
       "      <td>na</td>\n",
       "      <td>na</td>\n",
       "      <td>na</td>\n",
       "      <td>Understanding</td>\n",
       "      <td>Uniqueness</td>\n",
       "      <td>-3.0</td>\n",
       "      <td>na</td>\n",
       "      <td>na</td>\n",
       "      <td>na</td>\n",
       "    </tr>\n",
       "    <tr>\n",
       "      <th>1</th>\n",
       "      <td>2</td>\n",
       "      <td>orientation</td>\n",
       "      <td>solution</td>\n",
       "      <td>na</td>\n",
       "      <td>na</td>\n",
       "      <td>Involvement</td>\n",
       "      <td>na</td>\n",
       "      <td>na</td>\n",
       "      <td>Understanding</td>\n",
       "      <td>Uniqueness</td>\n",
       "      <td>0.0</td>\n",
       "      <td>na</td>\n",
       "      <td>na</td>\n",
       "      <td>na</td>\n",
       "    </tr>\n",
       "    <tr>\n",
       "      <th>12</th>\n",
       "      <td>13</td>\n",
       "      <td>orientation</td>\n",
       "      <td>solution</td>\n",
       "      <td>na</td>\n",
       "      <td>na</td>\n",
       "      <td>na</td>\n",
       "      <td>na</td>\n",
       "      <td>na</td>\n",
       "      <td>Understanding</td>\n",
       "      <td>Unspecific</td>\n",
       "      <td>-3.0</td>\n",
       "      <td>na</td>\n",
       "      <td>na</td>\n",
       "      <td>na</td>\n",
       "    </tr>\n",
       "    <tr>\n",
       "      <th>54</th>\n",
       "      <td>55</td>\n",
       "      <td>orientation</td>\n",
       "      <td>solution</td>\n",
       "      <td>na</td>\n",
       "      <td>na</td>\n",
       "      <td>na</td>\n",
       "      <td>na</td>\n",
       "      <td>na</td>\n",
       "      <td>Understanding</td>\n",
       "      <td>Uniqueness</td>\n",
       "      <td>-2.0</td>\n",
       "      <td>na</td>\n",
       "      <td>na</td>\n",
       "      <td>na</td>\n",
       "    </tr>\n",
       "    <tr>\n",
       "      <th>55</th>\n",
       "      <td>56</td>\n",
       "      <td>orientation</td>\n",
       "      <td>solution</td>\n",
       "      <td>na</td>\n",
       "      <td>na</td>\n",
       "      <td>Peer Review</td>\n",
       "      <td>na</td>\n",
       "      <td>na</td>\n",
       "      <td>Understanding</td>\n",
       "      <td>Uniqueness</td>\n",
       "      <td>0.0</td>\n",
       "      <td>na</td>\n",
       "      <td>na</td>\n",
       "      <td>na</td>\n",
       "    </tr>\n",
       "    <tr>\n",
       "      <th>103</th>\n",
       "      <td>104</td>\n",
       "      <td>orientation</td>\n",
       "      <td>solution</td>\n",
       "      <td>na</td>\n",
       "      <td>na</td>\n",
       "      <td>na</td>\n",
       "      <td>na</td>\n",
       "      <td>na</td>\n",
       "      <td>Understanding</td>\n",
       "      <td>Unspecific</td>\n",
       "      <td>1.0</td>\n",
       "      <td>Translating</td>\n",
       "      <td>Unspecific</td>\n",
       "      <td>2.0</td>\n",
       "    </tr>\n",
       "  </tbody>\n",
       "</table>\n",
       "</div>"
      ],
      "text/plain": [
       "      ID Quality Factor 1 Entity-Fact 1 Quality Factor 2 Entity-Fact 2  \\\n",
       "0      1      orientation      solution               na            na   \n",
       "1      2      orientation      solution               na            na   \n",
       "12    13      orientation      solution               na            na   \n",
       "54    55      orientation      solution               na            na   \n",
       "55    56      orientation      solution               na            na   \n",
       "103  104      orientation      solution               na            na   \n",
       "\n",
       "    Context Factor 1 Context Factor 2 Context Factor 3     Activity 1  \\\n",
       "0                 na               na               na  Understanding   \n",
       "1        Involvement               na               na  Understanding   \n",
       "12                na               na               na  Understanding   \n",
       "54                na               na               na  Understanding   \n",
       "55       Peer Review               na               na  Understanding   \n",
       "103               na               na               na  Understanding   \n",
       "\n",
       "    Attribute 1 Impact 1   Activity 2 Attribute 2 Impact 2  \n",
       "0    Uniqueness     -3.0           na          na       na  \n",
       "1    Uniqueness      0.0           na          na       na  \n",
       "12   Unspecific     -3.0           na          na       na  \n",
       "54   Uniqueness     -2.0           na          na       na  \n",
       "55   Uniqueness      0.0           na          na       na  \n",
       "103  Unspecific      1.0  Translating  Unspecific      2.0  "
      ]
     },
     "execution_count": 9,
     "metadata": {},
     "output_type": "execute_result"
    }
   ],
   "source": [
    "qqf = query_qf(qualityfactor='orientation')\n",
    "qac = query_activity(activity='Understanding')\n",
    "df.query(f'{qqf} & {qac}')[allvars]"
   ]
  },
  {
   "cell_type": "markdown",
   "metadata": {},
   "source": [
    "The second query retrieves all statements in which the quality factor `orientation` with the value `solution` and the context factor `Involvement` impact the attribute `Uniqueness` of the activity `Understanding`."
   ]
  },
  {
   "cell_type": "code",
   "execution_count": 10,
   "metadata": {},
   "outputs": [
    {
     "data": {
      "text/html": [
       "<div>\n",
       "<style scoped>\n",
       "    .dataframe tbody tr th:only-of-type {\n",
       "        vertical-align: middle;\n",
       "    }\n",
       "\n",
       "    .dataframe tbody tr th {\n",
       "        vertical-align: top;\n",
       "    }\n",
       "\n",
       "    .dataframe thead th {\n",
       "        text-align: right;\n",
       "    }\n",
       "</style>\n",
       "<table border=\"1\" class=\"dataframe\">\n",
       "  <thead>\n",
       "    <tr style=\"text-align: right;\">\n",
       "      <th></th>\n",
       "      <th>ID</th>\n",
       "      <th>Quality Factor 1</th>\n",
       "      <th>Entity-Fact 1</th>\n",
       "      <th>Quality Factor 2</th>\n",
       "      <th>Entity-Fact 2</th>\n",
       "      <th>Context Factor 1</th>\n",
       "      <th>Context Factor 2</th>\n",
       "      <th>Context Factor 3</th>\n",
       "      <th>Activity 1</th>\n",
       "      <th>Attribute 1</th>\n",
       "      <th>Impact 1</th>\n",
       "      <th>Activity 2</th>\n",
       "      <th>Attribute 2</th>\n",
       "      <th>Impact 2</th>\n",
       "    </tr>\n",
       "  </thead>\n",
       "  <tbody>\n",
       "    <tr>\n",
       "      <th>1</th>\n",
       "      <td>2</td>\n",
       "      <td>orientation</td>\n",
       "      <td>solution</td>\n",
       "      <td>na</td>\n",
       "      <td>na</td>\n",
       "      <td>Involvement</td>\n",
       "      <td>na</td>\n",
       "      <td>na</td>\n",
       "      <td>Understanding</td>\n",
       "      <td>Uniqueness</td>\n",
       "      <td>0.0</td>\n",
       "      <td>na</td>\n",
       "      <td>na</td>\n",
       "      <td>na</td>\n",
       "    </tr>\n",
       "  </tbody>\n",
       "</table>\n",
       "</div>"
      ],
      "text/plain": [
       "   ID Quality Factor 1 Entity-Fact 1 Quality Factor 2 Entity-Fact 2  \\\n",
       "1   2      orientation      solution               na            na   \n",
       "\n",
       "  Context Factor 1 Context Factor 2 Context Factor 3     Activity 1  \\\n",
       "1      Involvement               na               na  Understanding   \n",
       "\n",
       "  Attribute 1 Impact 1 Activity 2 Attribute 2 Impact 2  \n",
       "1  Uniqueness      0.0         na          na       na  "
      ]
     },
     "execution_count": 10,
     "metadata": {},
     "output_type": "execute_result"
    }
   ],
   "source": [
    "qqf = query_qf(qualityfactor='orientation', entityfact='solution')\n",
    "qct = query_context(contextfactors=['Involvement'])\n",
    "qac = query_activity(activity='Understanding', attribute='Uniqueness')\n",
    "df.query(f'{qqf} & {qct} & {qac}')[allvars]"
   ]
  }
 ],
 "metadata": {
  "kernelspec": {
   "display_name": ".venv",
   "language": "python",
   "name": "python3"
  },
  "language_info": {
   "codemirror_mode": {
    "name": "ipython",
    "version": 3
   },
   "file_extension": ".py",
   "mimetype": "text/x-python",
   "name": "python",
   "nbconvert_exporter": "python",
   "pygments_lexer": "ipython3",
   "version": "3.10.0"
  }
 },
 "nbformat": 4,
 "nbformat_minor": 2
}
