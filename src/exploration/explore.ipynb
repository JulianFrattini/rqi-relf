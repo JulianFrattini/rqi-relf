{
 "cells": [
  {
   "cell_type": "code",
   "execution_count": 9,
   "metadata": {},
   "outputs": [],
   "source": [
    "import pandas as pd"
   ]
  },
  {
   "cell_type": "code",
   "execution_count": 10,
   "metadata": {},
   "outputs": [],
   "source": [
    "allvars = [ \n",
    "    'ID',\n",
    "    'Quality Factor 1', 'Entity-Fact 1', 'Quality Factor 2', 'Entity-Fact 2',\n",
    "    'Context Factor 1', 'Context Factor 2', 'Context Factor 3',\n",
    "    'Activity 1', 'Attribute 1', 'Impact 1', 'Activity 2', 'Attribute 2', 'Impact 2'\n",
    "]"
   ]
  },
  {
   "cell_type": "code",
   "execution_count": 13,
   "metadata": {},
   "outputs": [
    {
     "name": "stderr",
     "output_type": "stream",
     "text": [
      "c:\\Users\\juf\\Workspace\\BTH\\Data Processing\\rqi-pat\\.venv\\lib\\site-packages\\openpyxl\\worksheet\\_reader.py:312: UserWarning: Data Validation extension is not supported and will be removed\n",
      "  warn(msg)\n"
     ]
    }
   ],
   "source": [
    "df = pd.read_excel('../../data/raw/prq-data-0-10.xlsx', sheet_name='Data').fillna('na')"
   ]
  },
  {
   "cell_type": "code",
   "execution_count": 15,
   "metadata": {},
   "outputs": [],
   "source": [
    "# filter for rows where the participant explicitly mentioned a requirements quality impact\n",
    "df = df[df['M'] == True]"
   ]
  },
  {
   "cell_type": "code",
   "execution_count": 23,
   "metadata": {},
   "outputs": [],
   "source": [
    "# filter for rows that connect at least one quality factor with one activity\n",
    "df = df.query('`Quality Factor 1` != \"na\" & `Activity 1` != \"na\"')"
   ]
  },
  {
   "cell_type": "code",
   "execution_count": null,
   "metadata": {},
   "outputs": [],
   "source": [
    "def query_qf(qualityfactor: str, entityfact: str = \"\") -> str : \n",
    "    queries: [str] = []\n",
    "    for idx in [\"1\", \"2\"]:\n",
    "        query: str = f'`Quality Factor {idx}`==\"{qualityfactor}\"'\n",
    "        if entityfact:\n",
    "            query += f' & `Entity-Fact {idx}`==\"{entityfact}\"'\n",
    "        queries.append(query)\n",
    "\n",
    "    return '(' + ' | '.join(queries) + ')'\n",
    "\n",
    "def query_context(contextfactors: [str]) -> str :\n",
    "    col_ctx: [str] = ['Context Factor 1', 'Context Factor 2', 'Context Factor 3']\n",
    "\n",
    "    queries = [f'`{column}` in {contextfactors}' for column in col_ctx]\n",
    "\n",
    "    return '(' + ' | '.join(queries) + ')'\n",
    "\n",
    "def query_activity(activity: str, attribute: str = \"\", impact: int = None) -> str:\n",
    "    queries: [str] = []\n",
    "    for idx in [\"1\", \"2\"]:\n",
    "        query = f'`Activity {idx}`==\"{activity}\"'\n",
    "        if attribute:\n",
    "            query += f' & `Attribute {idx}`==\"{attribute}\"'\n",
    "            if impact:\n",
    "                query += f' & `Impact {idx}`=={impact}'\n",
    "        queries.append(query)\n",
    "\n",
    "    return '(' + ' | '.join(queries) + ')'\n"
   ]
  },
  {
   "cell_type": "code",
   "execution_count": null,
   "metadata": {},
   "outputs": [],
   "source": [
    "qqf = query_qf(qualityfactor='orientation', entityfact='solution')\n",
    "#qct = query_context(contextfactors=['Involvement'])\n",
    "qac = query_activity(activity='Understanding')\n",
    "#df.query(f'{qqf} & {qct} & {qac}')[allvars]\n",
    "df.query(f'{qqf}')[allvars]"
   ]
  },
  {
   "cell_type": "markdown",
   "metadata": {},
   "source": [
    "# Unspecific Impact"
   ]
  },
  {
   "cell_type": "code",
   "execution_count": 33,
   "metadata": {},
   "outputs": [],
   "source": [
    "df_unspec = df.query('`Activity 1` == \"Processing\" | `Activity 2` == \"Processing\" | `Attribute 1` == \"Unspecific\" | `Attribute 2` == \"Unspecific\"')\n",
    "df_spec = df.query('`Activity 1` != \"Processing\" & `Activity 2` != \"Processing\" & `Attribute 1` != \"Unspecific\" & `Attribute 2` != \"Unspecific\"')"
   ]
  },
  {
   "cell_type": "code",
   "execution_count": 48,
   "metadata": {},
   "outputs": [
    {
     "name": "stdout",
     "output_type": "stream",
     "text": [
      "34 reported relationships either state an unspecific activity or an unspecific attribute.\n"
     ]
    }
   ],
   "source": [
    "print(f'{len(df_unspec)} reported relationships either state an unspecific activity or an unspecific attribute.')"
   ]
  },
  {
   "cell_type": "code",
   "execution_count": 57,
   "metadata": {},
   "outputs": [
    {
     "name": "stdout",
     "output_type": "stream",
     "text": [
      "A total of 14 activities were unspecified.\n"
     ]
    }
   ],
   "source": [
    "unspecified_activities = 0\n",
    "for activityid in ['1', '2']:\n",
    "    activity_counts = df_unspec[f'Activity {activityid}'].value_counts().to_dict()\n",
    "    if 'Processing' in activity_counts:\n",
    "        unspecified_activities += activity_counts['Processing']\n",
    "\n",
    "print(f'A total of {unspecified_activities} activities were unspecified (\"Processing\").')"
   ]
  },
  {
   "cell_type": "code",
   "execution_count": 58,
   "metadata": {},
   "outputs": [
    {
     "name": "stdout",
     "output_type": "stream",
     "text": [
      "A total of 29 attributes were unspecified.\n"
     ]
    }
   ],
   "source": [
    "unspecified_attributes = 0\n",
    "for activityid in ['1', '2']:\n",
    "    attribute_counts = df_unspec[f'Attribute {activityid}'].value_counts().to_dict()\n",
    "    if 'Unspecific' in attribute_counts:\n",
    "        unspecified_attributes += attribute_counts['Unspecific']\n",
    "\n",
    "print(f'A total of {unspecified_attributes} attributes were unspecified (\"Unspecified\").')"
   ]
  },
  {
   "cell_type": "markdown",
   "metadata": {},
   "source": [
    "## Sole Quality Factors\n",
    "\n",
    "Filtering for all reported relationships of one single quality factor with a support of at least 2."
   ]
  },
  {
   "cell_type": "code",
   "execution_count": 38,
   "metadata": {},
   "outputs": [
    {
     "data": {
      "text/plain": [
       "{'orientation-solution': {'support': 7,\n",
       "  'activities': {'Understanding': {'Uniqueness': [-3.0, -2.0]},\n",
       "   'Verifying': {'Completeness': [-2.0, -2.0]},\n",
       "   'Estimating Effort': {'Traceability': [2.0]},\n",
       "   'Translating': {'Stability': [2.0]},\n",
       "   'Planning': {'Stability': [2.0]}}},\n",
       " 'atomic-false': {'support': 2,\n",
       "  'activities': {'Translating': {'Duration': [-2.0, -2.0]},\n",
       "   'Planning': {'Stability': [-2.0]}}},\n",
       " 'concise-false': {'support': 2,\n",
       "  'activities': {'Understanding': {'Uniqueness': [-1.0], 'Duration': [-2.0]}}},\n",
       " 'density-too high': {'support': 3,\n",
       "  'activities': {'Understanding': {'Duration': [-2.0]},\n",
       "   'Verifying': {'Duration': [-2.0]},\n",
       "   'Interpreting': {'Uniqueness': [-2.0]}}}}"
      ]
     },
     "execution_count": 38,
     "metadata": {},
     "output_type": "execute_result"
    }
   ],
   "source": [
    "single_impact = df_spec.query('`Quality Factor 2` == \"na\" & `Context Factor 1` == \"na\" & `Context Factor 2` == \"na\" & `Context Factor 3` == \"na\"')\n",
    "\n",
    "instances = {}\n",
    "for index, row in single_impact.iterrows():\n",
    "    entityfact = f'{row[\"Quality Factor 1\"]}-{row[\"Entity-Fact 1\"]}'\n",
    "\n",
    "    if entityfact not in instances:\n",
    "        instances[entityfact] = {\n",
    "            'support': 0,\n",
    "            'activities': {}\n",
    "        }\n",
    "\n",
    "    instances[entityfact]['support'] += 1\n",
    "\n",
    "    for actid in ['1', '2']:\n",
    "        if row[f'Activity {actid}'] != \"na\":\n",
    "            activity = row[f'Activity {actid}']\n",
    "            if activity not in instances[entityfact]['activities']:\n",
    "                instances[entityfact]['activities'][activity] = {}\n",
    "\n",
    "            attribute = row[f'Attribute {actid}']\n",
    "            if attribute not in instances[entityfact]['activities'][activity]:\n",
    "                instances[entityfact]['activities'][activity][attribute] = []\n",
    "            instances[entityfact]['activities'][activity][attribute].append(row[f'Impact {actid}'])\n",
    "\n",
    "{instance:instances[instance] for instance in instances if instances[instance]['support'] >= 2}"
   ]
  },
  {
   "cell_type": "markdown",
   "metadata": {},
   "source": [
    "## Quality Factor Interaction"
   ]
  },
  {
   "cell_type": "code",
   "execution_count": 42,
   "metadata": {},
   "outputs": [
    {
     "data": {
      "text/plain": [
       "{'semantically redundant-true & horizontal traces-missing': {'support': 1,\n",
       "  'activities': {'Implementing': {'Coherence': [-2.0]}}},\n",
       " 'level of detail-too little & type-non-functional': {'support': 1,\n",
       "  'activities': {'Understanding': {'Uniqueness': [-2.0]}}},\n",
       " 'jargonic-true & density-too high': {'support': 1,\n",
       "  'activities': {'Assessing Feasibility': {'Precision': [-2.0]}}}}"
      ]
     },
     "execution_count": 42,
     "metadata": {},
     "output_type": "execute_result"
    }
   ],
   "source": [
    "interaction = df_spec.query('`Quality Factor 2` != \"na\" & `Context Factor 1` == \"na\" & `Context Factor 2` == \"na\" & `Context Factor 3` == \"na\"')\n",
    "\n",
    "instances = {}\n",
    "for index, row in interaction.iterrows():\n",
    "    entityfact = f'{row[\"Quality Factor 1\"]}-{row[\"Entity-Fact 1\"]} & {row[\"Quality Factor 2\"]}-{row[\"Entity-Fact 2\"]}'\n",
    "\n",
    "    if entityfact not in instances:\n",
    "        instances[entityfact] = {\n",
    "            'support': 0,\n",
    "            'activities': {}\n",
    "        }\n",
    "\n",
    "    instances[entityfact]['support'] += 1\n",
    "\n",
    "    for actid in ['1', '2']:\n",
    "        if row[f'Activity {actid}'] != \"na\":\n",
    "            activity = row[f'Activity {actid}']\n",
    "            if activity not in instances[entityfact]['activities']:\n",
    "                instances[entityfact]['activities'][activity] = {}\n",
    "\n",
    "            attribute = row[f'Attribute {actid}']\n",
    "            if attribute not in instances[entityfact]['activities'][activity]:\n",
    "                instances[entityfact]['activities'][activity][attribute] = []\n",
    "            instances[entityfact]['activities'][activity][attribute].append(row[f'Impact {actid}'])\n",
    "\n",
    "instances"
   ]
  },
  {
   "cell_type": "markdown",
   "metadata": {},
   "source": [
    "## Context Factor Interaction"
   ]
  },
  {
   "cell_type": "code",
   "execution_count": 46,
   "metadata": {},
   "outputs": [
    {
     "data": {
      "text/plain": [
       "{'orientation-solution & Involvement': {'support': 1,\n",
       "  'activities': {'Understanding': {'Uniqueness': [0.0]}}},\n",
       " 'orientation-solution & Novelty': {'support': 2,\n",
       "  'activities': {'Assessing Feasibility': {'Precision': [2.0]},\n",
       "   'Estimating Effort': {'Precision': [2.0]},\n",
       "   'Translating': {'Stability': [1.0]}}},\n",
       " 'atomic-true & Experience': {'support': 1,\n",
       "  'activities': {'Understanding': {'Uniqueness': [3.0]}}},\n",
       " 'orientation-solution & Peer Review': {'support': 1,\n",
       "  'activities': {'Understanding': {'Uniqueness': [0.0]}}},\n",
       " 'overloaded term-true & Involvement': {'support': 1,\n",
       "  'activities': {'Understanding': {'Uniqueness': [2.0]}}},\n",
       " 'density-too high & Experience': {'support': 1,\n",
       "  'activities': {'Understanding': {'Duration': [0.0]}}},\n",
       " 'density-too high & Supplementary Communication': {'support': 1,\n",
       "  'activities': {'Verifying': {'Duration': [2.0]}}}}"
      ]
     },
     "execution_count": 46,
     "metadata": {},
     "output_type": "execute_result"
    }
   ],
   "source": [
    "interaction = df_spec.query('`Context Factor 1` != \"na\"')\n",
    "\n",
    "instances = {}\n",
    "for index, row in interaction.iterrows():\n",
    "    entityfact = f'{row[\"Quality Factor 1\"]}-{row[\"Entity-Fact 1\"]}'\n",
    "    if row[\"Quality Factor 2\"] != 'na':\n",
    "        entityfact += f' & {row[\"Quality Factor 2\"]}-{row[\"Entity-Fact 2\"]}'\n",
    "    entityfact += f' & {row[\"Context Factor 1\"]}'\n",
    "    for cid in ['2', '3']:\n",
    "        if row[f'Context Factor {cid}'] != \"na\":\n",
    "            entityfact += f' & {row[\"Context Factor \"+cid]}'\n",
    "\n",
    "    if entityfact not in instances:\n",
    "        instances[entityfact] = {\n",
    "            'support': 0,\n",
    "            'activities': {}\n",
    "        }\n",
    "\n",
    "    instances[entityfact]['support'] += 1\n",
    "\n",
    "    for actid in ['1', '2']:\n",
    "        if row[f'Activity {actid}'] != \"na\":\n",
    "            activity = row[f'Activity {actid}']\n",
    "            if activity not in instances[entityfact]['activities']:\n",
    "                instances[entityfact]['activities'][activity] = {}\n",
    "\n",
    "            attribute = row[f'Attribute {actid}']\n",
    "            if attribute not in instances[entityfact]['activities'][activity]:\n",
    "                instances[entityfact]['activities'][activity][attribute] = []\n",
    "            instances[entityfact]['activities'][activity][attribute].append(row[f'Impact {actid}'])\n",
    "\n",
    "instances"
   ]
  }
 ],
 "metadata": {
  "kernelspec": {
   "display_name": ".venv",
   "language": "python",
   "name": "python3"
  },
  "language_info": {
   "codemirror_mode": {
    "name": "ipython",
    "version": 3
   },
   "file_extension": ".py",
   "mimetype": "text/x-python",
   "name": "python",
   "nbconvert_exporter": "python",
   "pygments_lexer": "ipython3",
   "version": "3.10.0"
  }
 },
 "nbformat": 4,
 "nbformat_minor": 2
}
