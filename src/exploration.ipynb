{
 "cells": [
  {
   "cell_type": "markdown",
   "metadata": {},
   "source": [
    "# Exploration of Interview Data\n",
    "\n",
    "This notebook contains helper functions that enable to explore the coded interview data further. "
   ]
  },
  {
   "cell_type": "code",
   "execution_count": null,
   "metadata": {},
   "outputs": [],
   "source": [
    "import pandas as pd"
   ]
  },
  {
   "cell_type": "markdown",
   "metadata": {},
   "source": [
    "## Data Preparation\n",
    "\n",
    "Load the data and remove rows where the interview participant explicitly stated that they do not perceive any quality defect. However, other than in the [analysis](./../analytics/analysis.ipynb) we retain (1) incomplete and (2) unspecific data as it may be interesting for other types of investigation."
   ]
  },
  {
   "cell_type": "code",
   "execution_count": null,
   "metadata": {},
   "outputs": [],
   "source": [
    "df = pd.read_excel('./../data/interview-data.xlsx', sheet_name='Data').fillna('na')\n",
    "df = df[df['M'] == True]"
   ]
  },
  {
   "cell_type": "code",
   "execution_count": null,
   "metadata": {},
   "outputs": [],
   "source": [
    "# list the variables containing codes, i.e., remove all variables which contain supplementary information or verbatim mentions\n",
    "allvars = [ \n",
    "    'ID',\n",
    "    'Quality Factor 1', 'Entity-Fact 1', 'Quality Factor 2', 'Entity-Fact 2',\n",
    "    'Context Factor 1', 'Context Factor 2', 'Context Factor 3',\n",
    "    'Activity 1', 'Attribute 1', 'Impact 1', 'Activity 2', 'Attribute 2', 'Impact 2'\n",
    "]"
   ]
  },
  {
   "cell_type": "markdown",
   "metadata": {},
   "source": [
    "## Helper functions\n",
    "\n",
    "In the following code blocks, we define helper functions which generate query strings for the `pandas.DataFrame.query()` method. By providing for example the `query_qf()` method with a quality factor, it constructs a query that searches for all rows in which either the column `Quality Factor 1` or `Quality Factor 2` equal the provided value."
   ]
  },
  {
   "cell_type": "code",
   "execution_count": null,
   "metadata": {},
   "outputs": [],
   "source": [
    "def query_qf(qualityfactor: str, entityfact: str = \"\") -> str : \n",
    "    queries: [str] = []\n",
    "    for idx in [\"1\", \"2\"]:\n",
    "        query: str = f'`Quality Factor {idx}`==\"{qualityfactor}\"'\n",
    "        if entityfact:\n",
    "            query += f' & `Entity-Fact {idx}`==\"{entityfact}\"'\n",
    "        queries.append(query)\n",
    "\n",
    "    return '(' + ' | '.join(queries) + ')'"
   ]
  },
  {
   "cell_type": "code",
   "execution_count": null,
   "metadata": {},
   "outputs": [],
   "source": [
    "def query_context(contextfactors: [str]) -> str :\n",
    "    col_ctx: [str] = ['Context Factor 1', 'Context Factor 2', 'Context Factor 3']\n",
    "\n",
    "    queries = [f'`{column}` in {contextfactors}' for column in col_ctx]\n",
    "\n",
    "    return '(' + ' | '.join(queries) + ')'"
   ]
  },
  {
   "cell_type": "code",
   "execution_count": null,
   "metadata": {},
   "outputs": [],
   "source": [
    "def query_activity(activity: str, attribute: str = \"\", impact: int = None) -> str:\n",
    "    queries: [str] = []\n",
    "    for idx in [\"1\", \"2\"]:\n",
    "        query = f'`Activity {idx}`==\"{activity}\"'\n",
    "        if attribute:\n",
    "            query += f' & `Attribute {idx}`==\"{attribute}\"'\n",
    "            if impact:\n",
    "                query += f' & `Impact {idx}`=={impact}'\n",
    "        queries.append(query)\n",
    "\n",
    "    return '(' + ' | '.join(queries) + ')'"
   ]
  },
  {
   "cell_type": "markdown",
   "metadata": {},
   "source": [
    "## Exploration\n",
    "\n",
    "With the helper methods, query strings can be generated that allow to filter the existing data for specific attributes."
   ]
  },
  {
   "cell_type": "markdown",
   "metadata": {},
   "source": [
    "The first query retrieves all statements in which the quality factor `orientation` impacts the activity of `Understanding`."
   ]
  },
  {
   "cell_type": "code",
   "execution_count": null,
   "metadata": {},
   "outputs": [],
   "source": [
    "qqf = query_qf(qualityfactor='orientation')\n",
    "qac = query_activity(activity='Understanding')\n",
    "df.query(f'{qqf} & {qac}')[allvars]"
   ]
  },
  {
   "cell_type": "markdown",
   "metadata": {},
   "source": [
    "The second query retrieves all statements in which the quality factor `orientation` with the value `solution` and the context factor `Involvement` impact the attribute `Uniqueness` of the activity `Understanding`."
   ]
  },
  {
   "cell_type": "code",
   "execution_count": null,
   "metadata": {},
   "outputs": [],
   "source": [
    "qqf = query_qf(qualityfactor='orientation', entityfact='solution')\n",
    "qct = query_context(contextfactors=['Involvement'])\n",
    "qac = query_activity(activity='Understanding', attribute='Uniqueness')\n",
    "df.query(f'{qqf} & {qct} & {qac}')[allvars]"
   ]
  }
 ],
 "metadata": {
  "kernelspec": {
   "display_name": ".venv",
   "language": "python",
   "name": "python3"
  },
  "language_info": {
   "codemirror_mode": {
    "name": "ipython",
    "version": 3
   },
   "file_extension": ".py",
   "mimetype": "text/x-python",
   "name": "python",
   "nbconvert_exporter": "python",
   "pygments_lexer": "ipython3",
   "version": "3.10.0"
  }
 },
 "nbformat": 4,
 "nbformat_minor": 2
}
