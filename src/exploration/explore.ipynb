{
 "cells": [
  {
   "cell_type": "code",
   "execution_count": 5,
   "metadata": {},
   "outputs": [],
   "source": [
    "import pandas as pd"
   ]
  },
  {
   "cell_type": "code",
   "execution_count": 6,
   "metadata": {},
   "outputs": [],
   "source": [
    "allvars = [ \n",
    "    'ID',\n",
    "    'Quality Factor 1', 'Entity-Fact 1', 'Quality Factor 2', 'Entity-Fact 2',\n",
    "    'Context Factor 1', 'Context Factor 2', 'Context Factor 3',\n",
    "    'Activity 1', 'Attribute 1', 'Impact 1', 'Activity 2', 'Attribute 2', 'Impact 2'\n",
    "]"
   ]
  },
  {
   "cell_type": "code",
   "execution_count": 7,
   "metadata": {},
   "outputs": [],
   "source": [
    "df = pd.read_excel('../../data/raw/prq-data-0-8.xlsx', sheet_name='Data')"
   ]
  },
  {
   "cell_type": "code",
   "execution_count": 8,
   "metadata": {},
   "outputs": [],
   "source": [
    "def query_qf(qualityfactor: str, entityfact: str = \"\") -> str : \n",
    "    queries: [str] = []\n",
    "    for idx in [\"1\", \"2\"]:\n",
    "        query: str = f'`Quality Factor {idx}`==\"{qualityfactor}\"'\n",
    "        if entityfact:\n",
    "            query += f' & `Entity-Fact {idx}`==\"{entityfact}\"'\n",
    "        queries.append(query)\n",
    "\n",
    "    return '(' + ' | '.join(queries) + ')'\n",
    "\n",
    "def query_context(contextfactors: [str]) -> str :\n",
    "    col_ctx: [str] = ['Context Factor 1', 'Context Factor 2', 'Context Factor 3']\n",
    "\n",
    "    queries = [f'`{column}` in {contextfactors}' for column in col_ctx]\n",
    "\n",
    "    return '(' + ' | '.join(queries) + ')'\n",
    "\n",
    "def query_activity(activity: str, attribute: str = \"\", impact: int = None) -> str:\n",
    "    queries: [str] = []\n",
    "    for idx in [\"1\", \"2\"]:\n",
    "        query = f'`Activity {idx}`==\"{activity}\"'\n",
    "        if attribute:\n",
    "            query += f' & `Attribute {idx}`==\"{attribute}\"'\n",
    "            if impact:\n",
    "                query += f' & `Impact {idx}`=={impact}'\n",
    "        queries.append(query)\n",
    "\n",
    "    return '(' + ' | '.join(queries) + ')'\n"
   ]
  },
  {
   "cell_type": "code",
   "execution_count": 11,
   "metadata": {},
   "outputs": [
    {
     "data": {
      "text/html": [
       "<div>\n",
       "<style scoped>\n",
       "    .dataframe tbody tr th:only-of-type {\n",
       "        vertical-align: middle;\n",
       "    }\n",
       "\n",
       "    .dataframe tbody tr th {\n",
       "        vertical-align: top;\n",
       "    }\n",
       "\n",
       "    .dataframe thead th {\n",
       "        text-align: right;\n",
       "    }\n",
       "</style>\n",
       "<table border=\"1\" class=\"dataframe\">\n",
       "  <thead>\n",
       "    <tr style=\"text-align: right;\">\n",
       "      <th></th>\n",
       "      <th>ID</th>\n",
       "      <th>Quality Factor 1</th>\n",
       "      <th>Entity-Fact 1</th>\n",
       "      <th>Quality Factor 2</th>\n",
       "      <th>Entity-Fact 2</th>\n",
       "      <th>Context Factor 1</th>\n",
       "      <th>Context Factor 2</th>\n",
       "      <th>Context Factor 3</th>\n",
       "      <th>Activity 1</th>\n",
       "      <th>Attribute 1</th>\n",
       "      <th>Impact 1</th>\n",
       "      <th>Activity 2</th>\n",
       "      <th>Attribute 2</th>\n",
       "      <th>Impact 2</th>\n",
       "    </tr>\n",
       "  </thead>\n",
       "  <tbody>\n",
       "    <tr>\n",
       "      <th>0</th>\n",
       "      <td>1</td>\n",
       "      <td>orientation</td>\n",
       "      <td>solution</td>\n",
       "      <td>NaN</td>\n",
       "      <td>NaN</td>\n",
       "      <td>Involvement</td>\n",
       "      <td>NaN</td>\n",
       "      <td>NaN</td>\n",
       "      <td>Understanding</td>\n",
       "      <td>Uniqueness</td>\n",
       "      <td>-3.0</td>\n",
       "      <td>NaN</td>\n",
       "      <td>NaN</td>\n",
       "      <td>NaN</td>\n",
       "    </tr>\n",
       "  </tbody>\n",
       "</table>\n",
       "</div>"
      ],
      "text/plain": [
       "   ID Quality Factor 1 Entity-Fact 1 Quality Factor 2 Entity-Fact 2  \\\n",
       "0   1      orientation      solution              NaN           NaN   \n",
       "\n",
       "  Context Factor 1 Context Factor 2 Context Factor 3     Activity 1  \\\n",
       "0      Involvement              NaN              NaN  Understanding   \n",
       "\n",
       "  Attribute 1  Impact 1 Activity 2 Attribute 2  Impact 2  \n",
       "0  Uniqueness      -3.0        NaN         NaN       NaN  "
      ]
     },
     "execution_count": 11,
     "metadata": {},
     "output_type": "execute_result"
    }
   ],
   "source": [
    "qqf = query_qf(qualityfactor='orientation', entityfact='solution')\n",
    "qct = query_context(contextfactors=['Involvement'])\n",
    "qac = query_activity(activity='Understanding')\n",
    "df.query(f'{qqf} & {qct} & {qac}')[allvars]"
   ]
  }
 ],
 "metadata": {
  "kernelspec": {
   "display_name": ".venv",
   "language": "python",
   "name": "python3"
  },
  "language_info": {
   "codemirror_mode": {
    "name": "ipython",
    "version": 3
   },
   "file_extension": ".py",
   "mimetype": "text/x-python",
   "name": "python",
   "nbconvert_exporter": "python",
   "pygments_lexer": "ipython3",
   "version": "3.10.0"
  }
 },
 "nbformat": 4,
 "nbformat_minor": 2
}
